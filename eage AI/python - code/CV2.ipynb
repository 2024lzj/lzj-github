{
 "cells": [
  {
   "cell_type": "code",
   "execution_count": 1,
   "id": "96e79cff-614b-4109-b644-10bd09b86327",
   "metadata": {},
   "outputs": [
    {
     "name": "stdout",
     "output_type": "stream",
     "text": [
      "照片已保存为 photo.jpeg\n"
     ]
    }
   ],
   "source": [
    "import cv2 as cv\n",
    "\n",
    "cap = cv.VideoCapture(0)  \n",
    "  \n",
    "if not cap.isOpened():  \n",
    "    print(\"摄像头未打开！\")\n",
    "    cap.open()\n",
    "\n",
    "ret, frame = cap.read()\n",
    "\n",
    "if ret:   \n",
    "    cv.imwrite('photo.jpeg', frame)  \n",
    "    print(\"照片已保存为 photo.jpeg\")  \n",
    "    cv.imshow('Frame', frame)\n",
    "    cv.waitKey(0)\n",
    "    cv.destroyAllWindows()\n",
    "\n",
    "else:  \n",
    "    print(\"无法从摄像头读取帧！\")  \n",
    "\n",
    "cap.release()"
   ]
  }
 ],
 "metadata": {
  "kernelspec": {
   "display_name": "Python 3 (ipykernel)",
   "language": "python",
   "name": "python3"
  },
  "language_info": {
   "codemirror_mode": {
    "name": "ipython",
    "version": 3
   },
   "file_extension": ".py",
   "mimetype": "text/x-python",
   "name": "python",
   "nbconvert_exporter": "python",
   "pygments_lexer": "ipython3",
   "version": "3.10.13"
  }
 },
 "nbformat": 4,
 "nbformat_minor": 5
}
