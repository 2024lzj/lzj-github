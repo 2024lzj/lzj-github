{
 "cells": [
  {
   "cell_type": "code",
   "execution_count": 1,
   "id": "1db81066-0b92-4fa8-a001-38fc96dd80f4",
   "metadata": {},
   "outputs": [
    {
     "name": "stdout",
     "output_type": "stream",
     "text": [
      "2.1.0\n"
     ]
    }
   ],
   "source": [
    "import numpy as np  \n",
    "print(np.__version__)\n"
   ]
  },
  {
   "cell_type": "code",
   "execution_count": 2,
   "id": "ec25acce-151d-417f-a46b-6e5dea050177",
   "metadata": {},
   "outputs": [
    {
     "name": "stdout",
     "output_type": "stream",
     "text": [
      "C:\\NewFolder\\python.exe\n"
     ]
    }
   ],
   "source": [
    "import sys  \n",
    "print(sys.executable)"
   ]
  },
  {
   "cell_type": "code",
   "execution_count": 10,
   "id": "33955564-2a35-4227-ab28-eaeaeffa3756",
   "metadata": {},
   "outputs": [
    {
     "name": "stdout",
     "output_type": "stream",
     "text": [
      "矩阵A:\n",
      " [[1 1 1 ... 1 1 1]\n",
      " [1 1 1 ... 1 1 1]\n",
      " [1 1 1 ... 1 1 1]\n",
      " ...\n",
      " [1 1 1 ... 1 1 1]\n",
      " [1 1 1 ... 1 1 1]\n",
      " [1 1 1 ... 1 1 1]]\n",
      "矩阵B:\n",
      " [[2 2 2 ... 2 2 2]\n",
      " [2 2 2 ... 2 2 2]\n",
      " [2 2 2 ... 2 2 2]\n",
      " ...\n",
      " [2 2 2 ... 2 2 2]\n",
      " [2 2 2 ... 2 2 2]\n",
      " [2 2 2 ... 2 2 2]]\n",
      "矩阵A乘以矩阵B的结果:\n",
      " [[120 120 120 ... 120 120 120]\n",
      " [120 120 120 ... 120 120 120]\n",
      " [120 120 120 ... 120 120 120]\n",
      " ...\n",
      " [120 120 120 ... 120 120 120]\n",
      " [120 120 120 ... 120 120 120]\n",
      " [120 120 120 ... 120 120 120]]\n"
     ]
    }
   ],
   "source": [
    "import numpy as np  \n",
    "\n",
    "A = np.full((80, 60), 1)\n",
    "B = np.full((60, 80), 2)\n",
    "\n",
    "C = np.dot(A, B)  \n",
    "\n",
    "print(\"矩阵A:\\n\", A)  \n",
    "print(\"矩阵B:\\n\", B)  \n",
    "print(\"矩阵A乘矩阵B:\\n\", C)"
   ]
  }
 ],
 "metadata": {
  "kernelspec": {
   "display_name": "Python 3 (ipykernel)",
   "language": "python",
   "name": "python3"
  },
  "language_info": {
   "codemirror_mode": {
    "name": "ipython",
    "version": 3
   },
   "file_extension": ".py",
   "mimetype": "text/x-python",
   "name": "python",
   "nbconvert_exporter": "python",
   "pygments_lexer": "ipython3",
   "version": "3.10.13"
  }
 },
 "nbformat": 4,
 "nbformat_minor": 5
}
